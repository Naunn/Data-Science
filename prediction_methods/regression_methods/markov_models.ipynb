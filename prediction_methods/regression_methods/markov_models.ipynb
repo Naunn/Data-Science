{
 "cells": [
  {
   "cell_type": "markdown",
   "metadata": {},
   "source": [
    "- https://mst.mimuw.edu.pl/wyklady/rp2/wyklad.pdf\n",
    "- https://ericmjl.github.io/essays-on-data-science/machine-learning/markov-models/\n",
    "- https://towardsdatascience.com/markov-chain-analysis-and-simulation-using-python-4507cee0b06e\n",
    "- https://stephens999.github.io/fiveMinuteStats/stationary_distribution.html"
   ]
  },
  {
   "cell_type": "code",
   "execution_count": 1,
   "metadata": {},
   "outputs": [],
   "source": [
    "import pandas as pd\n",
    "import numpy as np\n",
    "import matplotlib.pyplot as plt"
   ]
  },
  {
   "cell_type": "code",
   "execution_count": 2,
   "metadata": {},
   "outputs": [],
   "source": [
    "# initial state probability vector\n",
    "p_init = np.array([[29 / 100, 7 / 10, 1 / 100]])\n",
    "# if p_init.sum() == 1:\n",
    "#     pass\n",
    "# else:\n",
    "#     print(\"Initial probability vector does not sum up to 1!\")"
   ]
  },
  {
   "cell_type": "code",
   "execution_count": 3,
   "metadata": {},
   "outputs": [
    {
     "data": {
      "text/plain": [
       "array([[0.55863428, 0.20322394, 0.23814179],\n",
       "       [0.52632908, 0.22192328, 0.25174764],\n",
       "       [0.14782628, 0.77295168, 0.07922204]])"
      ]
     },
     "execution_count": 3,
     "metadata": {},
     "output_type": "execute_result"
    }
   ],
   "source": [
    "# (normal) random probability transition matrix (of size N x N, where N is the number of states)\n",
    "p_transition = np.zeros((p_init.shape[1], p_init.shape[1]))\n",
    "for row in range(p_transition.shape[0]):\n",
    "    p_transition[row] = np.random.lognormal(\n",
    "        mean=0, sigma=1, size=len(p_transition[row])\n",
    "    )\n",
    "    # sum to 1\n",
    "    p_transition[row] = p_transition[row] / p_transition[row].sum()\n",
    "\n",
    "p_transition"
   ]
  },
  {
   "cell_type": "code",
   "execution_count": 4,
   "metadata": {},
   "outputs": [],
   "source": [
    "# tests\n",
    "assert p_init.sum() == 1\n",
    "\n",
    "tol = 7\n",
    "for row in range(p_transition.shape[0]):\n",
    "    assert p_transition[row].sum().round(tol) == 1\n",
    "\n",
    "assert p_init.shape[1] == p_transition.shape[0] == p_transition.shape[1]"
   ]
  },
  {
   "cell_type": "markdown",
   "metadata": {},
   "source": [
    "Def. Let $P$ be stochastic matrix. We call distribution $\\pi$ on $E$, a stationary (unchangable), if $\\pi P=\\pi$ (i.e. for all $j\\in E, \\sum_{i\\in E}{\\pi_i p_{ij}=\\pi_i}$)."
   ]
  },
  {
   "cell_type": "markdown",
   "metadata": {},
   "source": [
    "Lets find stationary initial distribution. Note that:\n",
    "\n",
    "$s_1 = s_0P,\\, s_2=s_1P=(s_0P)P=s_0P^2\\ldots s_n=s_0P^n$, \n",
    "\n",
    "where $s_0$ is initial distribution.\n",
    "\n",
    "We can also refer to stationary distribution as $\\lim_{n\\rightarrow\\infty}s_0P^n=\\pi$\n"
   ]
  },
  {
   "cell_type": "markdown",
   "metadata": {},
   "source": [
    "Because\n",
    "\n",
    "$\\begin{bmatrix}\n",
    "    p_{1} & p_{2} & p_{3}\n",
    "  \\end{bmatrix} \\times \\begin{bmatrix}\n",
    "    p_{11} & p_{12} & p_{13} \\\\\n",
    "    p_{21} & p_{22} & p_{23} \\\\\n",
    "    p_{31} & p_{32} & p_{33}\n",
    "  \\end{bmatrix}  $\n",
    "\n",
    "gives us vector of sum of probabilities of going to given state, i.e.\n",
    "\n",
    "$\\begin{bmatrix}\n",
    "    p_{1}\\cdot p_{11} + p_{2}\\cdot p_{21} + p_{3}\\cdot p_{31}, & p_{1}\\cdot p_{12} + p_{2}\\cdot p_{22} + p_{3}\\cdot p_{32}, & p_{1}\\cdot p_{13} + p_{2}\\cdot p_{23} + p_{3}\\cdot p_{33},\n",
    "  \\end{bmatrix}$,\n",
    "\n",
    "where $p_{1}\\cdot p_{11} + p_{2}\\cdot p_{21} + p_{3}\\cdot p_{31}$ is probability of going to state $1$ from any given state, then, we can iterate this process further, until we recieve stationary distribution."
   ]
  },
  {
   "cell_type": "code",
   "execution_count": 5,
   "metadata": {},
   "outputs": [
    {
     "name": "stdout",
     "output_type": "stream",
     "text": [
      "Indeed, probabilities in vector s_i sum up to 1.0000000000000002.\n"
     ]
    }
   ],
   "source": [
    "# @= and @ are new operators introduced in Python 3.5 performing matrix multiplication.\n",
    "print(\n",
    "    \"Indeed, probabilities in vector s_i sum up to {}.\".format(\n",
    "        sum((p_init @ p_transition)[0])\n",
    "    )\n",
    ")"
   ]
  },
  {
   "cell_type": "code",
   "execution_count": 6,
   "metadata": {},
   "outputs": [
    {
     "data": {
      "text/html": [
       "<div>\n",
       "<style scoped>\n",
       "    .dataframe tbody tr th:only-of-type {\n",
       "        vertical-align: middle;\n",
       "    }\n",
       "\n",
       "    .dataframe tbody tr th {\n",
       "        vertical-align: top;\n",
       "    }\n",
       "\n",
       "    .dataframe thead th {\n",
       "        text-align: right;\n",
       "    }\n",
       "</style>\n",
       "<table border=\"1\" class=\"dataframe\">\n",
       "  <thead>\n",
       "    <tr style=\"text-align: right;\">\n",
       "      <th></th>\n",
       "      <th>0</th>\n",
       "      <th>1</th>\n",
       "      <th>2</th>\n",
       "    </tr>\n",
       "  </thead>\n",
       "  <tbody>\n",
       "    <tr>\n",
       "      <th>0</th>\n",
       "      <td>0.290000</td>\n",
       "      <td>0.700000</td>\n",
       "      <td>0.010000</td>\n",
       "    </tr>\n",
       "    <tr>\n",
       "      <th>1</th>\n",
       "      <td>0.531913</td>\n",
       "      <td>0.222011</td>\n",
       "      <td>0.246077</td>\n",
       "    </tr>\n",
       "    <tr>\n",
       "      <th>2</th>\n",
       "      <td>0.450372</td>\n",
       "      <td>0.347572</td>\n",
       "      <td>0.202056</td>\n",
       "    </tr>\n",
       "    <tr>\n",
       "      <th>3</th>\n",
       "      <td>0.464400</td>\n",
       "      <td>0.324840</td>\n",
       "      <td>0.210760</td>\n",
       "    </tr>\n",
       "    <tr>\n",
       "      <th>4</th>\n",
       "      <td>0.461558</td>\n",
       "      <td>0.329374</td>\n",
       "      <td>0.209068</td>\n",
       "    </tr>\n",
       "    <tr>\n",
       "      <th>5</th>\n",
       "      <td>0.462107</td>\n",
       "      <td>0.328495</td>\n",
       "      <td>0.209398</td>\n",
       "    </tr>\n",
       "    <tr>\n",
       "      <th>6</th>\n",
       "      <td>0.462000</td>\n",
       "      <td>0.328667</td>\n",
       "      <td>0.209334</td>\n",
       "    </tr>\n",
       "    <tr>\n",
       "      <th>7</th>\n",
       "      <td>0.462021</td>\n",
       "      <td>0.328633</td>\n",
       "      <td>0.209346</td>\n",
       "    </tr>\n",
       "    <tr>\n",
       "      <th>8</th>\n",
       "      <td>0.462017</td>\n",
       "      <td>0.328640</td>\n",
       "      <td>0.209344</td>\n",
       "    </tr>\n",
       "    <tr>\n",
       "      <th>9</th>\n",
       "      <td>0.462017</td>\n",
       "      <td>0.328638</td>\n",
       "      <td>0.209344</td>\n",
       "    </tr>\n",
       "    <tr>\n",
       "      <th>10</th>\n",
       "      <td>0.462017</td>\n",
       "      <td>0.328639</td>\n",
       "      <td>0.209344</td>\n",
       "    </tr>\n",
       "    <tr>\n",
       "      <th>11</th>\n",
       "      <td>0.462017</td>\n",
       "      <td>0.328638</td>\n",
       "      <td>0.209344</td>\n",
       "    </tr>\n",
       "    <tr>\n",
       "      <th>12</th>\n",
       "      <td>0.462017</td>\n",
       "      <td>0.328638</td>\n",
       "      <td>0.209344</td>\n",
       "    </tr>\n",
       "    <tr>\n",
       "      <th>13</th>\n",
       "      <td>0.462017</td>\n",
       "      <td>0.328638</td>\n",
       "      <td>0.209344</td>\n",
       "    </tr>\n",
       "    <tr>\n",
       "      <th>14</th>\n",
       "      <td>0.462017</td>\n",
       "      <td>0.328638</td>\n",
       "      <td>0.209344</td>\n",
       "    </tr>\n",
       "  </tbody>\n",
       "</table>\n",
       "</div>"
      ],
      "text/plain": [
       "           0         1         2\n",
       "0   0.290000  0.700000  0.010000\n",
       "1   0.531913  0.222011  0.246077\n",
       "2   0.450372  0.347572  0.202056\n",
       "3   0.464400  0.324840  0.210760\n",
       "4   0.461558  0.329374  0.209068\n",
       "5   0.462107  0.328495  0.209398\n",
       "6   0.462000  0.328667  0.209334\n",
       "7   0.462021  0.328633  0.209346\n",
       "8   0.462017  0.328640  0.209344\n",
       "9   0.462017  0.328638  0.209344\n",
       "10  0.462017  0.328639  0.209344\n",
       "11  0.462017  0.328638  0.209344\n",
       "12  0.462017  0.328638  0.209344\n",
       "13  0.462017  0.328638  0.209344\n",
       "14  0.462017  0.328638  0.209344"
      ]
     },
     "execution_count": 6,
     "metadata": {},
     "output_type": "execute_result"
    }
   ],
   "source": [
    "n = 75\n",
    "\n",
    "p_state_t = [p_init[0]]\n",
    "\n",
    "for _ in range(n):\n",
    "    p_state_t.append(p_state_t[-1] @ p_transition)\n",
    "\n",
    "state_distribution = pd.DataFrame(p_state_t)\n",
    "state_distribution.head(15)"
   ]
  },
  {
   "cell_type": "code",
   "execution_count": 7,
   "metadata": {},
   "outputs": [
    {
     "name": "stdout",
     "output_type": "stream",
     "text": [
      "Stationary distribution for states: [0.46201725 0.32863849 0.20934426]\n"
     ]
    },
    {
     "data": {
      "text/plain": [
       "<Axes: >"
      ]
     },
     "execution_count": 7,
     "metadata": {},
     "output_type": "execute_result"
    },
    {
     "data": {
      "image/png": "[encoded data removed]",
      "text/plain": [
       "<Figure size 640x480 with 1 Axes>"
      ]
     },
     "metadata": {},
     "output_type": "display_data"
    }
   ],
   "source": [
    "assert (\n",
    "    state_distribution.tail(1).values\n",
    "    == state_distribution.tail(1).values @ p_transition\n",
    ").all()\n",
    "\n",
    "print(\"Stationary distribution for states:\", state_distribution.tail(1).values[0])\n",
    "state_distribution.plot()"
   ]
  },
  {
   "cell_type": "markdown",
   "metadata": {},
   "source": [
    "We can also use analytical formula:\n",
    "\n",
    "$\\pi = \\pi P \\iff \\pi - \\pi P = 0 \\iff \\pi(I-P)=0 \\overset{(AB)^T=B^TA^T}{\\iff} (\\pi(I-P))^T=0^T \\iff (I-P)^T\\pi^T=0$,\n",
    "\n",
    "where $\\pi$ is a row vector of dimension of $n\\times1$, $P$ is stochastic matrix with dimension of $n\\times n$ and $n\\in\\mathbb{N}$ is the number of states. \n",
    "\n",
    "Next, because we know how to solve $Ax=b$, and we have linear constrains of $\\sum_{i\\in s}{\\pi_i}=1$, then we can combine above with constrain to get:\n",
    "\n",
    "$Ax=b,$\n",
    "\n",
    "where $A = \\begin{bmatrix}\n",
    "    (I - P)^T    \\\\\n",
    "    row\\:of\\:1's\n",
    "  \\end{bmatrix}$, $x = \\pi^T$, and $b$ is column vector of 0's with 1 on in last row.\n",
    "\n",
    "Example. Let $P = \\begin{bmatrix}\n",
    "    4 & 3 \\\\\n",
    "    2 & 1\n",
    "  \\end{bmatrix}$ and $\\pi = [p_1, p_2]$. Then, $(I-P)^T = \\begin{bmatrix}\n",
    "    -3 & -2 \\\\\n",
    "    -3 & 0\n",
    "  \\end{bmatrix}$. Using the above, we should solve for $\\begin{bmatrix}\n",
    "    -3 & -3 \\\\\n",
    "    -2 & 0 \\\\\n",
    "    1 & 1\n",
    "  \\end{bmatrix}\\times\\begin{bmatrix}\n",
    "    p_1 \\\\\n",
    "    p_2 \\\\\n",
    "  \\end{bmatrix}=\\begin{bmatrix}\n",
    "    0 \\\\\n",
    "    0 \\\\\n",
    "    1\n",
    "  \\end{bmatrix}$."
   ]
  },
  {
   "cell_type": "code",
   "execution_count": 78,
   "metadata": {},
   "outputs": [
    {
     "name": "stdout",
     "output_type": "stream",
     "text": [
      "[0.46201725 0.32863849 0.20934426]\n"
     ]
    },
    {
     "name": "stderr",
     "output_type": "stream",
     "text": [
      "C:\\Users\\User\\AppData\\Local\\Temp\\ipykernel_15456\\47612078.py:4: FutureWarning: `rcond` parameter will change to the default of machine precision times ``max(M, N)`` where M and N are the input matrix dimensions.\n",
      "To use the future default and silence this warning we advise to pass `rcond=None`, to keep using the old, explicitly pass `rcond=-1`.\n",
      "  pi = np.linalg.lstsq(A, b)[0]\n"
     ]
    }
   ],
   "source": [
    "n = p_transition.shape[0]\n",
    "A = np.vstack([(np.identity(n) - p_transition).T, [1 for n in range(n)]])\n",
    "b = np.array([0 for n in range(n)] + [1])\n",
    "pi = np.linalg.lstsq(A, b)[0]\n",
    "print(\n",
    "    pi\n",
    ")  # Return the least-squares solution to a linear matrix equation (numerical approach of solving linear equation)."
   ]
  },
  {
   "cell_type": "markdown",
   "metadata": {},
   "source": [
    "Comparing numerical vs analytical (with numerical matrix solving) approach of finding stationary distribution, shows (may be almost, because of the computations) same results."
   ]
  },
  {
   "cell_type": "code",
   "execution_count": 88,
   "metadata": {},
   "outputs": [
    {
     "name": "stdout",
     "output_type": "stream",
     "text": [
      "Numerical:  [0.46201725 0.32863849 0.20934426] \n",
      " vs \n",
      "Analytical: [0.46201725 0.32863849 0.20934426]\n"
     ]
    }
   ],
   "source": [
    "print(\n",
    "    \"Numerical:  {} \\n vs \\nAnalytical: {}\".format(\n",
    "        state_distribution.tail(1).values[0], pi\n",
    "    )\n",
    ")"
   ]
  },
  {
   "cell_type": "code",
   "execution_count": null,
   "metadata": {},
   "outputs": [],
   "source": []
  }
 ],
 "metadata": {
  "kernelspec": {
   "display_name": "base",
   "language": "python",
   "name": "python3"
  },
  "language_info": {
   "codemirror_mode": {
    "name": "ipython",
    "version": 3
   },
   "file_extension": ".py",
   "mimetype": "text/x-python",
   "name": "python",
   "nbconvert_exporter": "python",
   "pygments_lexer": "ipython3",
   "version": "3.10.9"
  }
 },
 "nbformat": 4,
 "nbformat_minor": 2
}
